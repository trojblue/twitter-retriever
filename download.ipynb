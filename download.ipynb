{
 "cells": [
  {
   "cell_type": "code",
   "execution_count": 3,
   "metadata": {
    "collapsed": true
   },
   "outputs": [],
   "source": [
    "from pathlib import Path\n",
    "import twitter_suite as ts"
   ]
  },
  {
   "cell_type": "code",
   "execution_count": 4,
   "outputs": [],
   "source": [
    "# twitter: 下载到 BASE_DIR/twitter\n",
    "DOWNLOAD_DIR = r\"D:\\CSC\\twitter-suite\\gallery-dl\"\n",
    "twitter_dir = Path(DOWNLOAD_DIR) / \"twitter\""
   ],
   "metadata": {
    "collapsed": false
   }
  },
  {
   "cell_type": "code",
   "execution_count": 7,
   "outputs": [],
   "source": [
    "TXT_PATH = \"bin/twitter-list-me-and-troj-and-illusts-deduped 20230527.txt\"\n",
    "PROCESS_DIR = Path(DOWNLOAD_DIR) / Path(TXT_PATH).stem"
   ],
   "metadata": {
    "collapsed": false
   }
  },
  {
   "cell_type": "code",
   "execution_count": 6,
   "outputs": [
    {
     "data": {
      "text/plain": "  0%|          | 0/196 [00:00<?, ?user/s]",
      "application/vnd.jupyter.widget-view+json": {
       "version_major": 2,
       "version_minor": 0,
       "model_id": "6e2c5a9a56e5408eb9a493876b397ff5"
      }
     },
     "metadata": {},
     "output_type": "display_data"
    }
   ],
   "source": [
    "# 从txt下载画师的关注列表的推特图片: (多个关注列表共享文件)\n",
    "ts.ingest.download_users(txt_path=TXT_PATH, dst_dir=DOWNLOAD_DIR)"
   ],
   "metadata": {
    "collapsed": false
   }
  },
  {
   "cell_type": "code",
   "execution_count": null,
   "outputs": [],
   "source": [],
   "metadata": {
    "collapsed": false
   }
  },
  {
   "cell_type": "code",
   "execution_count": null,
   "outputs": [],
   "source": [
    "# 复制txt里指定的画师文件夹进一步处理:\n",
    "ts.filter.move_folders_by_txt(TXT_PATH, twitter_dir, PROCESS_DIR, copy=True)"
   ],
   "metadata": {
    "collapsed": false
   }
  },
  {
   "cell_type": "code",
   "execution_count": 4,
   "outputs": [
    {
     "name": "stdout",
     "output_type": "stream",
     "text": [
      "Moving smaller files to D:\\CSC\\twitter-suite\\gallery-dl\\twitter-list-me-20230507_sub70_min640\n"
     ]
    },
    {
     "data": {
      "text/plain": "Processing directories:   0%|          | 0/77 [00:00<?, ?it/s]",
      "application/vnd.jupyter.widget-view+json": {
       "version_major": 2,
       "version_minor": 0,
       "model_id": "f46a3e707a16451ea3459f21f0db52c5"
      }
     },
     "metadata": {},
     "output_type": "display_data"
    }
   ],
   "source": [
    "# 原始数据分布\n",
    "ts.metrics.get_metrics(PROCESS_DIR, is_twitter=True)"
   ],
   "metadata": {
    "collapsed": false
   }
  },
  {
   "cell_type": "code",
   "execution_count": null,
   "outputs": [],
   "source": [
    "# 移动小图:\n",
    "# [任意]一边小于640px, 或文件小于70kb\n",
    "ts.filter.move_small_files(PROCESS_DIR, size_threshold_kb=70, dimensions_threshold=640)"
   ],
   "metadata": {
    "collapsed": false
   }
  },
  {
   "cell_type": "code",
   "execution_count": null,
   "outputs": [],
   "source": [
    "# 计算aesthetic:\n",
    "ts.metrics.get_aesthetics(PROCESS_DIR)"
   ],
   "metadata": {
    "collapsed": false
   }
  },
  {
   "cell_type": "code",
   "execution_count": null,
   "outputs": [],
   "source": [
    "# 移动aesthetic低的文件:\n",
    "ts.filter.move_low_aesthetic_files(PROCESS_DIR, aesthetic_threshold=5.0)"
   ],
   "metadata": {
    "collapsed": false
   }
  },
  {
   "cell_type": "code",
   "execution_count": 5,
   "outputs": [
    {
     "name": "stdout",
     "output_type": "stream",
     "text": [
      "2023-05-09 06:17:25.756460 [INFO] found 9870 file(s) for evaluation\n"
     ]
    },
    {
     "name": "stderr",
     "output_type": "stream",
     "text": [
      "\n",
      "KeyboardInterrupt\n",
      "\n"
     ]
    }
   ],
   "source": [
    "# 移动旧文件:\n",
    "# todo: 用copy_file_newer_than替换\n",
    "ts.filter.move_files_older_than(PROCESS_DIR, min_year=2020)"
   ],
   "metadata": {
    "collapsed": false
   }
  },
  {
   "cell_type": "code",
   "execution_count": null,
   "outputs": [],
   "source": [
    "# 复查数据分布\n",
    "ts.metrics.get_metrics(PROCESS_DIR, is_twitter=True)"
   ],
   "metadata": {
    "collapsed": false
   }
  },
  {
   "cell_type": "code",
   "execution_count": null,
   "outputs": [],
   "source": [],
   "metadata": {
    "collapsed": false
   }
  }
 ],
 "metadata": {
  "kernelspec": {
   "display_name": "Python 3",
   "language": "python",
   "name": "python3"
  },
  "language_info": {
   "codemirror_mode": {
    "name": "ipython",
    "version": 2
   },
   "file_extension": ".py",
   "mimetype": "text/x-python",
   "name": "python",
   "nbconvert_exporter": "python",
   "pygments_lexer": "ipython2",
   "version": "2.7.6"
  }
 },
 "nbformat": 4,
 "nbformat_minor": 0
}
