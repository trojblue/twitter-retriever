{
 "cells": [
  {
   "cell_type": "code",
   "execution_count": 11,
   "metadata": {
    "collapsed": true
   },
   "outputs": [],
   "source": [
    "from pathlib import Path\n",
    "import twitter_suite as ts"
   ]
  },
  {
   "cell_type": "code",
   "execution_count": 12,
   "outputs": [],
   "source": [
    "# twitter: 下载到 BASE_DIR/twitter\n",
    "DOWNLOAD_DIR = r\"D:\\CSC\\twitter-suite\\gallery-dl\"\n",
    "twitter_dir = Path(DOWNLOAD_DIR) / \"twitter\"\n",
    "TXT_PATH = r\"D:\\CSC\\twitter-suite\\bin\\twitter-artists-100nin2023.txt\"\n",
    "PROCESS_DIR = Path(DOWNLOAD_DIR) / Path(TXT_PATH).stem"
   ],
   "metadata": {
    "collapsed": false
   }
  },
  {
   "cell_type": "code",
   "execution_count": 13,
   "outputs": [
    {
     "name": "stdout",
     "output_type": "stream",
     "text": [
      "copy folders listed in D:\\CSC\\twitter-suite\\bin\\twitter-artists-100nin2023.txt from D:\\CSC\\twitter-suite\\gallery-dl\\twitter to D:\\CSC\\twitter-suite\\gallery-dl\\twitter-artists-100nin2023: \n"
     ]
    },
    {
     "data": {
      "text/plain": "  0%|          | 0/100 [00:00<?, ?it/s]",
      "application/vnd.jupyter.widget-view+json": {
       "version_major": 2,
       "version_minor": 0,
       "model_id": "b9522ac58d244fb18a5096e389e68a16"
      }
     },
     "metadata": {},
     "output_type": "display_data"
    },
    {
     "name": "stdout",
     "output_type": "stream",
     "text": [
      "Folder D:\\CSC\\twitter-suite\\gallery-dl\\twitter\\yuka_nakajima not found.\n",
      "Folder D:\\CSC\\twitter-suite\\gallery-dl\\twitter\\necometa not found.\n",
      "Folder D:\\CSC\\twitter-suite\\gallery-dl\\twitter\\urafmo not found.\n",
      "Folder D:\\CSC\\twitter-suite\\gallery-dl\\twitter\\mignon not found.\n",
      "Folder D:\\CSC\\twitter-suite\\gallery-dl\\twitter\\asatsukimint not found.\n"
     ]
    }
   ],
   "source": [
    "# [复制]txt里指定的文件:\n",
    "ts.filter.move_folders_by_txt(TXT_PATH, twitter_dir, PROCESS_DIR, copy=True)"
   ],
   "metadata": {
    "collapsed": false
   }
  },
  {
   "cell_type": "code",
   "execution_count": 20,
   "outputs": [
    {
     "name": "stdout",
     "output_type": "stream",
     "text": [
      "Moving smaller files to D:\\CSC\\twitter-suite\\gallery-dl\\twitter-artists-100nin2023_sub85_min768\n"
     ]
    },
    {
     "data": {
      "text/plain": "Processing directories:   0%|          | 0/96 [00:00<?, ?it/s]",
      "application/vnd.jupyter.widget-view+json": {
       "version_major": 2,
       "version_minor": 0,
       "model_id": "a87a0b873bb84711a990824d6266c71e"
      }
     },
     "metadata": {},
     "output_type": "display_data"
    }
   ],
   "source": [
    "# 去除小文件, 分到两个文件夹检视\n",
    "# ts.filter.move_small_files(PROCESS_DIR, size_threshold_kb=70, dimensions_threshold=640)\n",
    "ts.filter.move_small_files(PROCESS_DIR, size_threshold_kb=85, dimensions_threshold=768)"
   ],
   "metadata": {
    "collapsed": false
   }
  },
  {
   "cell_type": "code",
   "execution_count": 15,
   "outputs": [
    {
     "data": {
      "text/plain": "Moving folders:   0%|          | 0/95 [00:00<?, ?it/s]",
      "application/vnd.jupyter.widget-view+json": {
       "version_major": 2,
       "version_minor": 0,
       "model_id": "50905d513a7047df88cbd8f90bec20dd"
      }
     },
     "metadata": {},
     "output_type": "display_data"
    },
    {
     "name": "stdout",
     "output_type": "stream",
     "text": [
      "move_files_older_than_year: \n",
      "D:\\CSC\\twitter-suite\\gallery-dl\\twitter-artists-100nin2023\n",
      "D:\\CSC\\twitter-suite\\gallery-dl\\twitter-artists-100nin2023_max2019\n",
      "2019\n",
      "move_files_older_than_year: \n",
      "D:\\CSC\\twitter-suite\\gallery-dl\\twitter-artists-100nin2023\\09ra_19ra\n",
      "D:\\CSC\\twitter-suite\\gallery-dl\\twitter-artists-100nin2023_max2019\\09ra_19ra\n",
      "2019\n",
      "move_files_older_than_year: \n",
      "D:\\CSC\\twitter-suite\\gallery-dl\\twitter-artists-100nin2023\\40hara\n",
      "D:\\CSC\\twitter-suite\\gallery-dl\\twitter-artists-100nin2023_max2019\\40hara\n",
      "2019\n",
      "move_files_older_than_year: \n",
      "D:\\CSC\\twitter-suite\\gallery-dl\\twitter-artists-100nin2023\\49tyo\n",
      "D:\\CSC\\twitter-suite\\gallery-dl\\twitter-artists-100nin2023_max2019\\49tyo\n",
      "2019\n",
      "move_files_older_than_year: \n",
      "D:\\CSC\\twitter-suite\\gallery-dl\\twitter-artists-100nin2023\\6U_s\n",
      "D:\\CSC\\twitter-suite\\gallery-dl\\twitter-artists-100nin2023_max2019\\6U_s\n",
      "2019\n",
      "move_files_older_than_year: \n",
      "D:\\CSC\\twitter-suite\\gallery-dl\\twitter-artists-100nin2023\\amamine\n",
      "D:\\CSC\\twitter-suite\\gallery-dl\\twitter-artists-100nin2023_max2019\\amamine\n",
      "2019\n",
      "move_files_older_than_year: \n",
      "D:\\CSC\\twitter-suite\\gallery-dl\\twitter-artists-100nin2023\\Ann_NH\n",
      "D:\\CSC\\twitter-suite\\gallery-dl\\twitter-artists-100nin2023_max2019\\Ann_NH\n",
      "2019\n",
      "move_files_older_than_year: \n",
      "D:\\CSC\\twitter-suite\\gallery-dl\\twitter-artists-100nin2023\\aosorayuri24\n",
      "D:\\CSC\\twitter-suite\\gallery-dl\\twitter-artists-100nin2023_max2019\\aosorayuri24\n",
      "2019\n",
      "move_files_older_than_year: \n",
      "D:\\CSC\\twitter-suite\\gallery-dl\\twitter-artists-100nin2023\\asagi_0398\n",
      "D:\\CSC\\twitter-suite\\gallery-dl\\twitter-artists-100nin2023_max2019\\asagi_0398\n",
      "2019\n",
      "move_files_older_than_year: \n",
      "D:\\CSC\\twitter-suite\\gallery-dl\\twitter-artists-100nin2023\\asahikawa33\n",
      "D:\\CSC\\twitter-suite\\gallery-dl\\twitter-artists-100nin2023_max2019\\asahikawa33\n",
      "2019\n",
      "move_files_older_than_year: \n",
      "D:\\CSC\\twitter-suite\\gallery-dl\\twitter-artists-100nin2023\\ayamy_garubinu\n",
      "D:\\CSC\\twitter-suite\\gallery-dl\\twitter-artists-100nin2023_max2019\\ayamy_garubinu\n",
      "2019\n",
      "move_files_older_than_year: \n",
      "D:\\CSC\\twitter-suite\\gallery-dl\\twitter-artists-100nin2023\\beni_carnelian\n",
      "D:\\CSC\\twitter-suite\\gallery-dl\\twitter-artists-100nin2023_max2019\\beni_carnelian\n",
      "2019\n",
      "move_files_older_than_year: \n",
      "D:\\CSC\\twitter-suite\\gallery-dl\\twitter-artists-100nin2023\\Cheon1986\n",
      "D:\\CSC\\twitter-suite\\gallery-dl\\twitter-artists-100nin2023_max2019\\Cheon1986\n",
      "2019\n",
      "move_files_older_than_year: \n",
      "D:\\CSC\\twitter-suite\\gallery-dl\\twitter-artists-100nin2023\\coffeekizoku\n",
      "D:\\CSC\\twitter-suite\\gallery-dl\\twitter-artists-100nin2023_max2019\\coffeekizoku\n",
      "2019\n",
      "move_files_older_than_year: \n",
      "D:\\CSC\\twitter-suite\\gallery-dl\\twitter-artists-100nin2023\\digimon215\n",
      "D:\\CSC\\twitter-suite\\gallery-dl\\twitter-artists-100nin2023_max2019\\digimon215\n",
      "2019\n",
      "move_files_older_than_year: \n",
      "D:\\CSC\\twitter-suite\\gallery-dl\\twitter-artists-100nin2023\\DSmile9\n",
      "D:\\CSC\\twitter-suite\\gallery-dl\\twitter-artists-100nin2023_max2019\\DSmile9\n",
      "2019\n",
      "move_files_older_than_year: \n",
      "D:\\CSC\\twitter-suite\\gallery-dl\\twitter-artists-100nin2023\\ekureea\n",
      "D:\\CSC\\twitter-suite\\gallery-dl\\twitter-artists-100nin2023_max2019\\ekureea\n",
      "2019\n",
      "move_files_older_than_year: \n",
      "D:\\CSC\\twitter-suite\\gallery-dl\\twitter-artists-100nin2023\\eretto_\n",
      "D:\\CSC\\twitter-suite\\gallery-dl\\twitter-artists-100nin2023_max2019\\eretto_\n",
      "2019\n",
      "move_files_older_than_year: \n",
      "D:\\CSC\\twitter-suite\\gallery-dl\\twitter-artists-100nin2023\\erikamijo\n",
      "D:\\CSC\\twitter-suite\\gallery-dl\\twitter-artists-100nin2023_max2019\\erikamijo\n",
      "2019\n",
      "move_files_older_than_year: \n",
      "D:\\CSC\\twitter-suite\\gallery-dl\\twitter-artists-100nin2023\\ERIMO_WKS\n",
      "D:\\CSC\\twitter-suite\\gallery-dl\\twitter-artists-100nin2023_max2019\\ERIMO_WKS\n",
      "2019\n",
      "move_files_older_than_year: \n",
      "D:\\CSC\\twitter-suite\\gallery-dl\\twitter-artists-100nin2023\\erisize\n",
      "D:\\CSC\\twitter-suite\\gallery-dl\\twitter-artists-100nin2023_max2019\\erisize\n",
      "2019\n",
      "move_files_older_than_year: \n",
      "D:\\CSC\\twitter-suite\\gallery-dl\\twitter-artists-100nin2023\\fujimatakuya\n",
      "D:\\CSC\\twitter-suite\\gallery-dl\\twitter-artists-100nin2023_max2019\\fujimatakuya\n",
      "2019\n",
      "move_files_older_than_year: \n",
      "D:\\CSC\\twitter-suite\\gallery-dl\\twitter-artists-100nin2023\\fuka_hire\n",
      "D:\\CSC\\twitter-suite\\gallery-dl\\twitter-artists-100nin2023_max2019\\fuka_hire\n",
      "2019\n",
      "move_files_older_than_year: \n",
      "D:\\CSC\\twitter-suite\\gallery-dl\\twitter-artists-100nin2023\\fuumiisc\n",
      "D:\\CSC\\twitter-suite\\gallery-dl\\twitter-artists-100nin2023_max2019\\fuumiisc\n",
      "2019\n",
      "move_files_older_than_year: \n",
      "D:\\CSC\\twitter-suite\\gallery-dl\\twitter-artists-100nin2023\\fuzichoco\n",
      "D:\\CSC\\twitter-suite\\gallery-dl\\twitter-artists-100nin2023_max2019\\fuzichoco\n",
      "2019\n",
      "move_files_older_than_year: \n",
      "D:\\CSC\\twitter-suite\\gallery-dl\\twitter-artists-100nin2023\\gabiran_\n",
      "D:\\CSC\\twitter-suite\\gallery-dl\\twitter-artists-100nin2023_max2019\\gabiran_\n",
      "2019\n",
      "move_files_older_than_year: \n",
      "D:\\CSC\\twitter-suite\\gallery-dl\\twitter-artists-100nin2023\\gigzagu123\n",
      "D:\\CSC\\twitter-suite\\gallery-dl\\twitter-artists-100nin2023_max2019\\gigzagu123\n",
      "2019\n",
      "move_files_older_than_year: \n",
      "D:\\CSC\\twitter-suite\\gallery-dl\\twitter-artists-100nin2023\\hagure_keg\n",
      "D:\\CSC\\twitter-suite\\gallery-dl\\twitter-artists-100nin2023_max2019\\hagure_keg\n",
      "2019\n",
      "move_files_older_than_year: \n",
      "D:\\CSC\\twitter-suite\\gallery-dl\\twitter-artists-100nin2023\\hapoi\n",
      "D:\\CSC\\twitter-suite\\gallery-dl\\twitter-artists-100nin2023_max2019\\hapoi\n",
      "2019\n",
      "move_files_older_than_year: \n",
      "D:\\CSC\\twitter-suite\\gallery-dl\\twitter-artists-100nin2023\\hitenkei\n",
      "D:\\CSC\\twitter-suite\\gallery-dl\\twitter-artists-100nin2023_max2019\\hitenkei\n",
      "2019\n",
      "move_files_older_than_year: \n",
      "D:\\CSC\\twitter-suite\\gallery-dl\\twitter-artists-100nin2023\\hoshi_u3\n",
      "D:\\CSC\\twitter-suite\\gallery-dl\\twitter-artists-100nin2023_max2019\\hoshi_u3\n",
      "2019\n",
      "move_files_older_than_year: \n",
      "D:\\CSC\\twitter-suite\\gallery-dl\\twitter-artists-100nin2023\\hu_na_\n",
      "D:\\CSC\\twitter-suite\\gallery-dl\\twitter-artists-100nin2023_max2019\\hu_na_\n",
      "2019\n",
      "move_files_older_than_year: \n",
      "D:\\CSC\\twitter-suite\\gallery-dl\\twitter-artists-100nin2023\\icenotes\n",
      "D:\\CSC\\twitter-suite\\gallery-dl\\twitter-artists-100nin2023_max2019\\icenotes\n",
      "2019\n",
      "move_files_older_than_year: \n",
      "D:\\CSC\\twitter-suite\\gallery-dl\\twitter-artists-100nin2023\\iftuoma\n",
      "D:\\CSC\\twitter-suite\\gallery-dl\\twitter-artists-100nin2023_max2019\\iftuoma\n",
      "2019\n",
      "move_files_older_than_year: \n",
      "D:\\CSC\\twitter-suite\\gallery-dl\\twitter-artists-100nin2023\\kagachi_SK\n",
      "D:\\CSC\\twitter-suite\\gallery-dl\\twitter-artists-100nin2023_max2019\\kagachi_SK\n",
      "2019\n",
      "move_files_older_than_year: \n",
      "D:\\CSC\\twitter-suite\\gallery-dl\\twitter-artists-100nin2023\\kakao_rantan\n",
      "D:\\CSC\\twitter-suite\\gallery-dl\\twitter-artists-100nin2023_max2019\\kakao_rantan\n",
      "2019\n",
      "move_files_older_than_year: \n",
      "D:\\CSC\\twitter-suite\\gallery-dl\\twitter-artists-100nin2023\\KeeUUU_\n",
      "D:\\CSC\\twitter-suite\\gallery-dl\\twitter-artists-100nin2023_max2019\\KeeUUU_\n",
      "2019\n",
      "move_files_older_than_year: \n",
      "D:\\CSC\\twitter-suite\\gallery-dl\\twitter-artists-100nin2023\\keigarou\n",
      "D:\\CSC\\twitter-suite\\gallery-dl\\twitter-artists-100nin2023_max2019\\keigarou\n",
      "2019\n",
      "move_files_older_than_year: \n",
      "D:\\CSC\\twitter-suite\\gallery-dl\\twitter-artists-100nin2023\\kilacco\n",
      "D:\\CSC\\twitter-suite\\gallery-dl\\twitter-artists-100nin2023_max2019\\kilacco\n",
      "2019\n",
      "move_files_older_than_year: \n",
      "D:\\CSC\\twitter-suite\\gallery-dl\\twitter-artists-100nin2023\\Koh_rd\n",
      "D:\\CSC\\twitter-suite\\gallery-dl\\twitter-artists-100nin2023_max2019\\Koh_rd\n",
      "2019\n",
      "move_files_older_than_year: \n",
      "D:\\CSC\\twitter-suite\\gallery-dl\\twitter-artists-100nin2023\\Kot_Rou020\n",
      "D:\\CSC\\twitter-suite\\gallery-dl\\twitter-artists-100nin2023_max2019\\Kot_Rou020\n",
      "2019\n",
      "move_files_older_than_year: \n",
      "D:\\CSC\\twitter-suite\\gallery-dl\\twitter-artists-100nin2023\\kuki8117\n",
      "D:\\CSC\\twitter-suite\\gallery-dl\\twitter-artists-100nin2023_max2019\\kuki8117\n",
      "2019\n",
      "move_files_older_than_year: \n",
      "D:\\CSC\\twitter-suite\\gallery-dl\\twitter-artists-100nin2023\\kwk33\n",
      "D:\\CSC\\twitter-suite\\gallery-dl\\twitter-artists-100nin2023_max2019\\kwk33\n",
      "2019\n",
      "move_files_older_than_year: \n",
      "D:\\CSC\\twitter-suite\\gallery-dl\\twitter-artists-100nin2023\\lemon_mito\n",
      "D:\\CSC\\twitter-suite\\gallery-dl\\twitter-artists-100nin2023_max2019\\lemon_mito\n",
      "2019\n",
      "move_files_older_than_year: \n",
      "D:\\CSC\\twitter-suite\\gallery-dl\\twitter-artists-100nin2023\\llluicent\n",
      "D:\\CSC\\twitter-suite\\gallery-dl\\twitter-artists-100nin2023_max2019\\llluicent\n",
      "2019\n",
      "move_files_older_than_year: \n",
      "D:\\CSC\\twitter-suite\\gallery-dl\\twitter-artists-100nin2023\\llo\n",
      "D:\\CSC\\twitter-suite\\gallery-dl\\twitter-artists-100nin2023_max2019\\llo\n",
      "2019\n",
      "move_files_older_than_year: \n",
      "D:\\CSC\\twitter-suite\\gallery-dl\\twitter-artists-100nin2023\\magchomp8\n",
      "D:\\CSC\\twitter-suite\\gallery-dl\\twitter-artists-100nin2023_max2019\\magchomp8\n",
      "2019\n",
      "move_files_older_than_year: \n",
      "D:\\CSC\\twitter-suite\\gallery-dl\\twitter-artists-100nin2023\\marurumoru\n",
      "D:\\CSC\\twitter-suite\\gallery-dl\\twitter-artists-100nin2023_max2019\\marurumoru\n",
      "2019\n",
      "move_files_older_than_year: \n",
      "D:\\CSC\\twitter-suite\\gallery-dl\\twitter-artists-100nin2023\\minakatasunao\n",
      "D:\\CSC\\twitter-suite\\gallery-dl\\twitter-artists-100nin2023_max2019\\minakatasunao\n",
      "2019\n",
      "move_files_older_than_year: \n",
      "D:\\CSC\\twitter-suite\\gallery-dl\\twitter-artists-100nin2023\\minuskun\n",
      "D:\\CSC\\twitter-suite\\gallery-dl\\twitter-artists-100nin2023_max2019\\minuskun\n",
      "2019\n",
      "move_files_older_than_year: \n",
      "D:\\CSC\\twitter-suite\\gallery-dl\\twitter-artists-100nin2023\\mocha708\n",
      "D:\\CSC\\twitter-suite\\gallery-dl\\twitter-artists-100nin2023_max2019\\mocha708\n",
      "2019\n",
      "move_files_older_than_year: \n",
      "D:\\CSC\\twitter-suite\\gallery-dl\\twitter-artists-100nin2023\\morikuraen\n",
      "D:\\CSC\\twitter-suite\\gallery-dl\\twitter-artists-100nin2023_max2019\\morikuraen\n",
      "2019\n",
      "move_files_older_than_year: \n",
      "D:\\CSC\\twitter-suite\\gallery-dl\\twitter-artists-100nin2023\\morinohon\n",
      "D:\\CSC\\twitter-suite\\gallery-dl\\twitter-artists-100nin2023_max2019\\morinohon\n",
      "2019\n",
      "move_files_older_than_year: \n",
      "D:\\CSC\\twitter-suite\\gallery-dl\\twitter-artists-100nin2023\\murakaruki\n",
      "D:\\CSC\\twitter-suite\\gallery-dl\\twitter-artists-100nin2023_max2019\\murakaruki\n",
      "2019\n",
      "move_files_older_than_year: \n",
      "D:\\CSC\\twitter-suite\\gallery-dl\\twitter-artists-100nin2023\\m_mic_0707\n",
      "D:\\CSC\\twitter-suite\\gallery-dl\\twitter-artists-100nin2023_max2019\\m_mic_0707\n",
      "2019\n",
      "move_files_older_than_year: \n",
      "D:\\CSC\\twitter-suite\\gallery-dl\\twitter-artists-100nin2023\\nano_phan\n",
      "D:\\CSC\\twitter-suite\\gallery-dl\\twitter-artists-100nin2023_max2019\\nano_phan\n",
      "2019\n",
      "move_files_older_than_year: \n",
      "D:\\CSC\\twitter-suite\\gallery-dl\\twitter-artists-100nin2023\\Nardack\n",
      "D:\\CSC\\twitter-suite\\gallery-dl\\twitter-artists-100nin2023_max2019\\Nardack\n",
      "2019\n",
      "move_files_older_than_year: \n",
      "D:\\CSC\\twitter-suite\\gallery-dl\\twitter-artists-100nin2023\\necomi_info\n",
      "D:\\CSC\\twitter-suite\\gallery-dl\\twitter-artists-100nin2023_max2019\\necomi_info\n",
      "2019\n",
      "move_files_older_than_year: \n",
      "D:\\CSC\\twitter-suite\\gallery-dl\\twitter-artists-100nin2023\\nmememen\n",
      "D:\\CSC\\twitter-suite\\gallery-dl\\twitter-artists-100nin2023_max2019\\nmememen\n",
      "2019\n",
      "move_files_older_than_year: \n",
      "D:\\CSC\\twitter-suite\\gallery-dl\\twitter-artists-100nin2023\\ogipote\n",
      "D:\\CSC\\twitter-suite\\gallery-dl\\twitter-artists-100nin2023_max2019\\ogipote\n",
      "2019\n",
      "move_files_older_than_year: \n",
      "D:\\CSC\\twitter-suite\\gallery-dl\\twitter-artists-100nin2023\\okamarble\n",
      "D:\\CSC\\twitter-suite\\gallery-dl\\twitter-artists-100nin2023_max2019\\okamarble\n",
      "2019\n",
      "move_files_older_than_year: \n",
      "D:\\CSC\\twitter-suite\\gallery-dl\\twitter-artists-100nin2023\\oshioshio_info\n",
      "D:\\CSC\\twitter-suite\\gallery-dl\\twitter-artists-100nin2023_max2019\\oshioshio_info\n",
      "2019\n",
      "move_files_older_than_year: \n",
      "D:\\CSC\\twitter-suite\\gallery-dl\\twitter-artists-100nin2023\\rag_ragko\n",
      "D:\\CSC\\twitter-suite\\gallery-dl\\twitter-artists-100nin2023_max2019\\rag_ragko\n",
      "2019\n",
      "move_files_older_than_year: \n",
      "D:\\CSC\\twitter-suite\\gallery-dl\\twitter-artists-100nin2023\\ramdayo1122\n",
      "D:\\CSC\\twitter-suite\\gallery-dl\\twitter-artists-100nin2023_max2019\\ramdayo1122\n",
      "2019\n",
      "move_files_older_than_year: \n",
      "D:\\CSC\\twitter-suite\\gallery-dl\\twitter-artists-100nin2023\\ran9u\n",
      "D:\\CSC\\twitter-suite\\gallery-dl\\twitter-artists-100nin2023_max2019\\ran9u\n",
      "2019\n",
      "move_files_older_than_year: \n",
      "D:\\CSC\\twitter-suite\\gallery-dl\\twitter-artists-100nin2023\\reoenl\n",
      "D:\\CSC\\twitter-suite\\gallery-dl\\twitter-artists-100nin2023_max2019\\reoenl\n",
      "2019\n",
      "move_files_older_than_year: \n",
      "D:\\CSC\\twitter-suite\\gallery-dl\\twitter-artists-100nin2023\\rin7914\n",
      "D:\\CSC\\twitter-suite\\gallery-dl\\twitter-artists-100nin2023_max2019\\rin7914\n",
      "2019\n",
      "move_files_older_than_year: \n",
      "D:\\CSC\\twitter-suite\\gallery-dl\\twitter-artists-100nin2023\\ringozaka_0913\n",
      "D:\\CSC\\twitter-suite\\gallery-dl\\twitter-artists-100nin2023_max2019\\ringozaka_0913\n",
      "2019\n",
      "move_files_older_than_year: \n",
      "D:\\CSC\\twitter-suite\\gallery-dl\\twitter-artists-100nin2023\\Rolua_N\n",
      "D:\\CSC\\twitter-suite\\gallery-dl\\twitter-artists-100nin2023_max2019\\Rolua_N\n",
      "2019\n",
      "move_files_older_than_year: \n",
      "D:\\CSC\\twitter-suite\\gallery-dl\\twitter-artists-100nin2023\\roro046\n",
      "D:\\CSC\\twitter-suite\\gallery-dl\\twitter-artists-100nin2023_max2019\\roro046\n",
      "2019\n",
      "move_files_older_than_year: \n",
      "D:\\CSC\\twitter-suite\\gallery-dl\\twitter-artists-100nin2023\\sae_sky77\n",
      "D:\\CSC\\twitter-suite\\gallery-dl\\twitter-artists-100nin2023_max2019\\sae_sky77\n",
      "2019\n",
      "move_files_older_than_year: \n",
      "D:\\CSC\\twitter-suite\\gallery-dl\\twitter-artists-100nin2023\\sakurapion\n",
      "D:\\CSC\\twitter-suite\\gallery-dl\\twitter-artists-100nin2023_max2019\\sakurapion\n",
      "2019\n",
      "move_files_older_than_year: \n",
      "D:\\CSC\\twitter-suite\\gallery-dl\\twitter-artists-100nin2023\\Sco_ttie\n",
      "D:\\CSC\\twitter-suite\\gallery-dl\\twitter-artists-100nin2023_max2019\\Sco_ttie\n",
      "2019\n",
      "move_files_older_than_year: \n",
      "D:\\CSC\\twitter-suite\\gallery-dl\\twitter-artists-100nin2023\\shiraho65\n",
      "D:\\CSC\\twitter-suite\\gallery-dl\\twitter-artists-100nin2023_max2019\\shiraho65\n",
      "2019\n",
      "move_files_older_than_year: \n",
      "D:\\CSC\\twitter-suite\\gallery-dl\\twitter-artists-100nin2023\\shiratamacaron\n",
      "D:\\CSC\\twitter-suite\\gallery-dl\\twitter-artists-100nin2023_max2019\\shiratamacaron\n",
      "2019\n",
      "move_files_older_than_year: \n",
      "D:\\CSC\\twitter-suite\\gallery-dl\\twitter-artists-100nin2023\\si10ra\n",
      "D:\\CSC\\twitter-suite\\gallery-dl\\twitter-artists-100nin2023_max2019\\si10ra\n",
      "2019\n",
      "move_files_older_than_year: \n",
      "D:\\CSC\\twitter-suite\\gallery-dl\\twitter-artists-100nin2023\\tatekawa_mako\n",
      "D:\\CSC\\twitter-suite\\gallery-dl\\twitter-artists-100nin2023_max2019\\tatekawa_mako\n",
      "2019\n",
      "move_files_older_than_year: \n",
      "D:\\CSC\\twitter-suite\\gallery-dl\\twitter-artists-100nin2023\\TeraAru6262\n",
      "D:\\CSC\\twitter-suite\\gallery-dl\\twitter-artists-100nin2023_max2019\\TeraAru6262\n",
      "2019\n",
      "move_files_older_than_year: \n",
      "D:\\CSC\\twitter-suite\\gallery-dl\\twitter-artists-100nin2023\\tokiwata_soul\n",
      "D:\\CSC\\twitter-suite\\gallery-dl\\twitter-artists-100nin2023_max2019\\tokiwata_soul\n",
      "2019\n",
      "move_files_older_than_year: \n",
      "D:\\CSC\\twitter-suite\\gallery-dl\\twitter-artists-100nin2023\\TorinoAqua\n",
      "D:\\CSC\\twitter-suite\\gallery-dl\\twitter-artists-100nin2023_max2019\\TorinoAqua\n",
      "2019\n",
      "move_files_older_than_year: \n",
      "D:\\CSC\\twitter-suite\\gallery-dl\\twitter-artists-100nin2023\\tpa425\n",
      "D:\\CSC\\twitter-suite\\gallery-dl\\twitter-artists-100nin2023_max2019\\tpa425\n",
      "2019\n",
      "move_files_older_than_year: \n",
      "D:\\CSC\\twitter-suite\\gallery-dl\\twitter-artists-100nin2023\\ttomarii\n",
      "D:\\CSC\\twitter-suite\\gallery-dl\\twitter-artists-100nin2023_max2019\\ttomarii\n",
      "2019\n",
      "move_files_older_than_year: \n",
      "D:\\CSC\\twitter-suite\\gallery-dl\\twitter-artists-100nin2023\\tuchinokojita\n",
      "D:\\CSC\\twitter-suite\\gallery-dl\\twitter-artists-100nin2023_max2019\\tuchinokojita\n",
      "2019\n",
      "move_files_older_than_year: \n",
      "D:\\CSC\\twitter-suite\\gallery-dl\\twitter-artists-100nin2023\\umeaoki\n",
      "D:\\CSC\\twitter-suite\\gallery-dl\\twitter-artists-100nin2023_max2019\\umeaoki\n",
      "2019\n",
      "move_files_older_than_year: \n",
      "D:\\CSC\\twitter-suite\\gallery-dl\\twitter-artists-100nin2023\\unasaka0309\n",
      "D:\\CSC\\twitter-suite\\gallery-dl\\twitter-artists-100nin2023_max2019\\unasaka0309\n",
      "2019\n",
      "move_files_older_than_year: \n",
      "D:\\CSC\\twitter-suite\\gallery-dl\\twitter-artists-100nin2023\\v600_dima\n",
      "D:\\CSC\\twitter-suite\\gallery-dl\\twitter-artists-100nin2023_max2019\\v600_dima\n",
      "2019\n",
      "move_files_older_than_year: \n",
      "D:\\CSC\\twitter-suite\\gallery-dl\\twitter-artists-100nin2023\\white_neige\n",
      "D:\\CSC\\twitter-suite\\gallery-dl\\twitter-artists-100nin2023_max2019\\white_neige\n",
      "2019\n",
      "move_files_older_than_year: \n",
      "D:\\CSC\\twitter-suite\\gallery-dl\\twitter-artists-100nin2023\\wttn3tpkt\n",
      "D:\\CSC\\twitter-suite\\gallery-dl\\twitter-artists-100nin2023_max2019\\wttn3tpkt\n",
      "2019\n",
      "move_files_older_than_year: \n",
      "D:\\CSC\\twitter-suite\\gallery-dl\\twitter-artists-100nin2023\\xx_Chon_xx\n",
      "D:\\CSC\\twitter-suite\\gallery-dl\\twitter-artists-100nin2023_max2019\\xx_Chon_xx\n",
      "2019\n",
      "move_files_older_than_year: \n",
      "D:\\CSC\\twitter-suite\\gallery-dl\\twitter-artists-100nin2023\\y_k_sme\n",
      "D:\\CSC\\twitter-suite\\gallery-dl\\twitter-artists-100nin2023_max2019\\y_k_sme\n",
      "2019\n",
      "move_files_older_than_year: \n",
      "D:\\CSC\\twitter-suite\\gallery-dl\\twitter-artists-100nin2023\\y_o_m_y_o_m\n",
      "D:\\CSC\\twitter-suite\\gallery-dl\\twitter-artists-100nin2023_max2019\\y_o_m_y_o_m\n",
      "2019\n",
      "move_files_older_than_year: \n",
      "D:\\CSC\\twitter-suite\\gallery-dl\\twitter-artists-100nin2023\\zekkyoubot\n",
      "D:\\CSC\\twitter-suite\\gallery-dl\\twitter-artists-100nin2023_max2019\\zekkyoubot\n",
      "2019\n",
      "move_files_older_than_year: \n",
      "D:\\CSC\\twitter-suite\\gallery-dl\\twitter-artists-100nin2023\\_akiakane\n",
      "D:\\CSC\\twitter-suite\\gallery-dl\\twitter-artists-100nin2023_max2019\\_akiakane\n",
      "2019\n",
      "move_files_older_than_year: \n",
      "D:\\CSC\\twitter-suite\\gallery-dl\\twitter-artists-100nin2023\\_namori_\n",
      "D:\\CSC\\twitter-suite\\gallery-dl\\twitter-artists-100nin2023_max2019\\_namori_\n",
      "2019\n",
      "move_files_older_than_year: \n",
      "D:\\CSC\\twitter-suite\\gallery-dl\\twitter-artists-100nin2023\\_sakurazawa_\n",
      "D:\\CSC\\twitter-suite\\gallery-dl\\twitter-artists-100nin2023_max2019\\_sakurazawa_\n",
      "2019\n",
      "move_files_older_than_year: \n",
      "D:\\CSC\\twitter-suite\\gallery-dl\\twitter-artists-100nin2023\\_yukoring\n",
      "D:\\CSC\\twitter-suite\\gallery-dl\\twitter-artists-100nin2023_max2019\\_yukoring\n",
      "2019\n"
     ]
    }
   ],
   "source": [
    "# 去除老文件\n",
    "ts.filter.move_files_older_than_year(PROCESS_DIR, min_year=2019)"
   ],
   "metadata": {
    "collapsed": false
   }
  },
  {
   "cell_type": "code",
   "execution_count": 16,
   "outputs": [
    {
     "name": "stdout",
     "output_type": "stream",
     "text": [
      "2023-05-10 08:35:24.638594 [INFO] found 43447 file(s) for evaluation\n",
      "2023-05-10 08:35:24.795077 [INFO] check complete: data written to D:\\CSC\\twitter-suite\\gallery-dl\\twitter-artists-100nin2023\\metrics.csv\n"
     ]
    },
    {
     "name": "stderr",
     "output_type": "stream",
     "text": [
      "Calculating phash values: 100%|██████████| 43447/43447 [03:27<00:00, 209.07it/s]\n"
     ]
    }
   ],
   "source": [
    "# 产生空白metrics.csv\n",
    "ts.metrics.get_aesthetics(PROCESS_DIR, dry_run=True)\n",
    "\n",
    "# 计算phash\n",
    "ts.metrics.insert_phash(PROCESS_DIR)"
   ],
   "metadata": {
    "collapsed": false
   }
  },
  {
   "cell_type": "code",
   "execution_count": 17,
   "outputs": [
    {
     "name": "stdout",
     "output_type": "stream",
     "text": [
      "Moved 6780 files to D:\\CSC\\twitter-suite\\gallery-dl\\twitter-artists-100nin2023_phash_min8\n"
     ]
    }
   ],
   "source": [
    "# 去重\n",
    "ts.filter.move_by_phash_diff(PROCESS_DIR, threshold=8)"
   ],
   "metadata": {
    "collapsed": false
   }
  },
  {
   "cell_type": "code",
   "execution_count": null,
   "outputs": [
    {
     "name": "stderr",
     "output_type": "stream",
     "text": [
      "Could not find image processor class in the image processor config or the model config. Loading based on pattern matching with the model's feature extractor configuration.\n",
      "D:\\APP\\0Drivers\\Python310\\lib\\site-packages\\transformers\\models\\beit\\image_processing_beit.py:108: FutureWarning: The `reduce_labels` parameter is deprecated and will be removed in a future version. Please use `do_reduce_labels` instead.\n",
      "  warnings.warn(\n",
      "Could not find image processor class in the image processor config or the model config. Loading based on pattern matching with the model's feature extractor configuration.\n",
      "Could not find image processor class in the image processor config or the model config. Loading based on pattern matching with the model's feature extractor configuration.\n",
      "  0%|          | 10/33483 [00:00<44:45, 12.46it/s]D:\\APP\\0Drivers\\Python310\\lib\\site-packages\\transformers\\pipelines\\base.py:1070: UserWarning: You seem to be using the pipelines sequentially on GPU. In order to maximize efficiency please use a dataset\n",
      "  warnings.warn(\n",
      " 21%|██        | 6907/33483 [08:14<33:41, 13.15it/s]  "
     ]
    }
   ],
   "source": [
    "# 计算style & 移动非anime图片\n",
    "ts.metrics.insert_cafe_metrics(PROCESS_DIR)\n",
    "ts.filter.move_non_anime_files(PROCESS_DIR)"
   ],
   "metadata": {
    "collapsed": false,
    "pycharm": {
     "is_executing": true
    }
   }
  },
  {
   "cell_type": "code",
   "execution_count": null,
   "outputs": [],
   "source": [
    "# 压缩图片到webp768"
   ],
   "metadata": {
    "collapsed": false,
    "pycharm": {
     "is_executing": true
    }
   }
  },
  {
   "cell_type": "code",
   "execution_count": null,
   "outputs": [],
   "source": [
    "# 压缩图片到webp768\n",
    "ts.process.resize_images(PROCESS_DIR, size=768, format=\"webp\")\n",
    "\n",
    "# validate\n",
    "ts.process.validate_images(PROCESS_DIR, size=768, format=\"webp\")"
   ],
   "metadata": {
    "collapsed": false
   }
  }
 ],
 "metadata": {
  "kernelspec": {
   "display_name": "Python 3",
   "language": "python",
   "name": "python3"
  },
  "language_info": {
   "codemirror_mode": {
    "name": "ipython",
    "version": 2
   },
   "file_extension": ".py",
   "mimetype": "text/x-python",
   "name": "python",
   "nbconvert_exporter": "python",
   "pygments_lexer": "ipython2",
   "version": "2.7.6"
  }
 },
 "nbformat": 4,
 "nbformat_minor": 0
}
