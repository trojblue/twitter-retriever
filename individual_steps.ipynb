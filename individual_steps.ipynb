{
 "cells": [
  {
   "cell_type": "code",
   "execution_count": 8,
   "metadata": {
    "collapsed": true
   },
   "outputs": [],
   "source": [
    "from pathlib import Path\n",
    "import twitter_suite as ts"
   ]
  },
  {
   "cell_type": "code",
   "execution_count": 9,
   "outputs": [],
   "source": [
    "# twitter: 下载到 BASE_DIR/twitter\n",
    "DOWNLOAD_DIR = r\"D:\\CSC\\twitter-suite\\gallery-dl\"\n",
    "twitter_dir = Path(DOWNLOAD_DIR) / \"twitter\""
   ],
   "metadata": {
    "collapsed": false
   }
  },
  {
   "cell_type": "code",
   "execution_count": 10,
   "outputs": [],
   "source": [
    "TXT_PATH = r\"D:\\CSC\\twitter-suite\\bin\\twitter-following-z3zz4.txt\"\n",
    "PROCESS_DIR = Path(DOWNLOAD_DIR) / Path(TXT_PATH).stem"
   ],
   "metadata": {
    "collapsed": false
   }
  },
  {
   "cell_type": "code",
   "execution_count": null,
   "outputs": [],
   "source": [
    "# 复制txt里指定的文件:\n",
    "ts.filter.move_folders_by_txt(TXT_PATH, twitter_dir, PROCESS_DIR, copy=True)"
   ],
   "metadata": {
    "collapsed": false
   }
  },
  {
   "cell_type": "code",
   "execution_count": null,
   "outputs": [],
   "source": [
    "# 去除小文件\n",
    "ts.filter.move_small_files(PROCESS_DIR, size_threshold_kb=70, dimensions_threshold=640)"
   ],
   "metadata": {
    "collapsed": false
   }
  },
  {
   "cell_type": "code",
   "execution_count": null,
   "outputs": [],
   "source": [
    "# 去除老文件\n",
    "ts.filter.move_files_older_than_year(PROCESS_DIR, min_year=2019)"
   ],
   "metadata": {
    "collapsed": false
   }
  },
  {
   "cell_type": "code",
   "execution_count": null,
   "outputs": [],
   "source": [
    "# 产生空白metrics.csv\n",
    "ts.metrics.get_aesthetics(PROCESS_DIR, dry_run=True)\n",
    "\n",
    "# 计算phash\n",
    "ts.metrics.insert_phash(PROCESS_DIR)"
   ],
   "metadata": {
    "collapsed": false
   }
  },
  {
   "cell_type": "code",
   "execution_count": null,
   "outputs": [],
   "source": [
    "# 去重\n",
    "ts.filter.move_by_phash_diff(PROCESS_DIR, threshold=8)"
   ],
   "metadata": {
    "collapsed": false
   }
  },
  {
   "cell_type": "code",
   "execution_count": 7,
   "outputs": [],
   "source": [
    "# 计算style & 移动非anime图片\n",
    "ts.metrics.insert_cafe_metrics(PROCESS_DIR)\n",
    "ts.filter.move_non_anime_files(PROCESS_DIR)"
   ],
   "metadata": {
    "collapsed": false
   }
  },
  {
   "cell_type": "code",
   "execution_count": 11,
   "outputs": [
    {
     "name": "stdout",
     "output_type": "stream",
     "text": [
      "Moving smaller files to D:\\CSC\\twitter-suite\\gallery-dl\\twitter-following-z3zz4_sub70_min768\n"
     ]
    },
    {
     "data": {
      "text/plain": "Processing directories:   0%|          | 0/199 [00:00<?, ?it/s]",
      "application/vnd.jupyter.widget-view+json": {
       "version_major": 2,
       "version_minor": 0,
       "model_id": "6b7d40eaae7348ab8027e100e990dc04"
      }
     },
     "metadata": {},
     "output_type": "display_data"
    }
   ],
   "source": [
    "# 再去除一次小文件\n",
    "ts.filter.move_small_files(PROCESS_DIR, size_threshold_kb=70, dimensions_threshold=768)"
   ],
   "metadata": {
    "collapsed": false
   }
  },
  {
   "cell_type": "code",
   "execution_count": null,
   "outputs": [],
   "source": [],
   "metadata": {
    "collapsed": false
   }
  }
 ],
 "metadata": {
  "kernelspec": {
   "display_name": "Python 3",
   "language": "python",
   "name": "python3"
  },
  "language_info": {
   "codemirror_mode": {
    "name": "ipython",
    "version": 2
   },
   "file_extension": ".py",
   "mimetype": "text/x-python",
   "name": "python",
   "nbconvert_exporter": "python",
   "pygments_lexer": "ipython2",
   "version": "2.7.6"
  }
 },
 "nbformat": 4,
 "nbformat_minor": 0
}
