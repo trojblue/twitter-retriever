{
 "cells": [
  {
   "cell_type": "code",
   "execution_count": 1,
   "metadata": {
    "collapsed": true
   },
   "outputs": [],
   "source": [
    "from pathlib import Path\n",
    "import twitter_suite.ingest"
   ]
  },
  {
   "cell_type": "code",
   "execution_count": 2,
   "outputs": [],
   "source": [
    "# config\n",
    "# D:\\CSC\\twitter-suite\\gallery-dl\\twitter\n",
    "BASE_DIR = r\"D:\\CSC\\twitter-suite\\gallery-dl\\twitter\""
   ],
   "metadata": {
    "collapsed": false
   }
  },
  {
   "cell_type": "code",
   "execution_count": null,
   "outputs": [
    {
     "name": "stderr",
     "output_type": "stream",
     "text": [
      "Downloading media:  56%|█████▌    | 44/79 [15:43<17:21, 29.74s/it]"
     ]
    }
   ],
   "source": [
    "# 从txt下载画师的关注列表的推特图片: (不同关注列表共享)\n",
    "txt_path = \"bin/twitter-list-me-20230507.txt\"\n",
    "twitter_suite.ingest.download_users(txt_path=txt_path, dst_dir=BASE_DIR)"
   ],
   "metadata": {
    "collapsed": false,
    "pycharm": {
     "is_executing": true
    }
   }
  },
  {
   "cell_type": "code",
   "execution_count": null,
   "outputs": [],
   "source": [
    "# 复制txt里指定的画师文件夹进一步处理:\n",
    "COPY_DIR = Path(txt_path).name\n",
    "from twitter_suite.process import move_folders_by_txt\n",
    "# twitter_suite.process.move_folders_by_txt(txt_path, BASE_DIR, dst_dir=BASE_DIR)\n",
    "print(f\"复制{COPY_DIR}里的文件夹到{BASE_DIR}...\")"
   ],
   "metadata": {
    "collapsed": false,
    "pycharm": {
     "is_executing": true
    }
   }
  },
  {
   "cell_type": "code",
   "execution_count": 2,
   "outputs": [
    {
     "name": "stderr",
     "output_type": "stream",
     "text": [
      "100%|██████████| 1122/1122 [00:03<00:00, 284.27it/s]\n"
     ]
    }
   ],
   "source": [
    "# 移动小图:\n",
    "from twitter_suite.process import move_small_files\n",
    "move_small_files(BASE_DIR)"
   ],
   "metadata": {
    "collapsed": false
   }
  },
  {
   "cell_type": "code",
   "execution_count": null,
   "outputs": [],
   "source": [
    "# 计算aesthetic:\n",
    "# TODO"
   ],
   "metadata": {
    "collapsed": false
   }
  }
 ],
 "metadata": {
  "kernelspec": {
   "display_name": "Python 3",
   "language": "python",
   "name": "python3"
  },
  "language_info": {
   "codemirror_mode": {
    "name": "ipython",
    "version": 2
   },
   "file_extension": ".py",
   "mimetype": "text/x-python",
   "name": "python",
   "nbconvert_exporter": "python",
   "pygments_lexer": "ipython2",
   "version": "2.7.6"
  }
 },
 "nbformat": 4,
 "nbformat_minor": 0
}
