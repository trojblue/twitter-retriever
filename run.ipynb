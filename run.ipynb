{
 "cells": [
  {
   "cell_type": "code",
   "execution_count": 2,
   "metadata": {
    "collapsed": true
   },
   "outputs": [],
   "source": [
    "import twitter_suite.ingest"
   ]
  },
  {
   "cell_type": "code",
   "execution_count": 1,
   "outputs": [],
   "source": [
    "# config\n",
    "BASE_DIR = r\"D:\\comfyui\\ComfyUI\\output\\Viewed\""
   ],
   "metadata": {
    "collapsed": false
   }
  },
  {
   "cell_type": "code",
   "execution_count": 4,
   "outputs": [
    {
     "name": "stderr",
     "output_type": "stream",
     "text": [
      "Downloading media: 100%|██████████| 20/20 [38:51<00:00, 116.58s/it]\n"
     ]
    }
   ],
   "source": [
    "# 从txt下载画师的关注列表的推特图片:\n",
    "txt_path = \"bin/bench_hachihito888_following.txt\"\n",
    "twitter_suite.ingest.download_users(txt_path=txt_path, dst_dir=BASE_DIR)"
   ],
   "metadata": {
    "collapsed": false
   }
  },
  {
   "cell_type": "code",
   "execution_count": 2,
   "outputs": [
    {
     "name": "stderr",
     "output_type": "stream",
     "text": [
      "100%|██████████| 1122/1122 [00:03<00:00, 284.27it/s]\n"
     ]
    }
   ],
   "source": [
    "# 移动小图:\n",
    "from twitter_suite.process import move_small_files\n",
    "move_small_files(BASE_DIR)"
   ],
   "metadata": {
    "collapsed": false
   }
  },
  {
   "cell_type": "code",
   "execution_count": null,
   "outputs": [],
   "source": [
    "# 计算aesthetic:\n",
    "# TODO"
   ],
   "metadata": {
    "collapsed": false
   }
  }
 ],
 "metadata": {
  "kernelspec": {
   "display_name": "Python 3",
   "language": "python",
   "name": "python3"
  },
  "language_info": {
   "codemirror_mode": {
    "name": "ipython",
    "version": 2
   },
   "file_extension": ".py",
   "mimetype": "text/x-python",
   "name": "python",
   "nbconvert_exporter": "python",
   "pygments_lexer": "ipython2",
   "version": "2.7.6"
  }
 },
 "nbformat": 4,
 "nbformat_minor": 0
}
