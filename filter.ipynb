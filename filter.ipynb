{
 "cells": [
  {
   "cell_type": "code",
   "execution_count": 1,
   "metadata": {
    "collapsed": true
   },
   "outputs": [
    {
     "ename": "ImportError",
     "evalue": "cannot import name 'move_non_anime_files' from 'twitter_suite.filter.move_non_anime_files' (D:\\CSC\\twitter-suite\\twitter_suite\\filter\\move_non_anime_files.py)",
     "output_type": "error",
     "traceback": [
      "\u001B[1;31m---------------------------------------------------------------------------\u001B[0m",
      "\u001B[1;31mImportError\u001B[0m                               Traceback (most recent call last)",
      "Cell \u001B[1;32mIn[1], line 2\u001B[0m\n\u001B[0;32m      1\u001B[0m \u001B[38;5;28;01mfrom\u001B[39;00m \u001B[38;5;21;01mpathlib\u001B[39;00m \u001B[38;5;28;01mimport\u001B[39;00m Path\n\u001B[1;32m----> 2\u001B[0m \u001B[38;5;28;01mimport\u001B[39;00m \u001B[38;5;21;01mtwitter_suite\u001B[39;00m \u001B[38;5;28;01mas\u001B[39;00m \u001B[38;5;21;01mts\u001B[39;00m\n",
      "File \u001B[1;32mD:\\CSC\\twitter-suite\\twitter_suite\\__init__.py:2\u001B[0m\n\u001B[0;32m      1\u001B[0m \u001B[38;5;28;01mfrom\u001B[39;00m \u001B[38;5;21;01m.\u001B[39;00m \u001B[38;5;28;01mimport\u001B[39;00m ingest\n\u001B[1;32m----> 2\u001B[0m \u001B[38;5;28;01mfrom\u001B[39;00m \u001B[38;5;21;01m.\u001B[39;00m \u001B[38;5;28;01mimport\u001B[39;00m \u001B[38;5;28mfilter\u001B[39m\n\u001B[0;32m      3\u001B[0m \u001B[38;5;28;01mfrom\u001B[39;00m \u001B[38;5;21;01m.\u001B[39;00m \u001B[38;5;28;01mimport\u001B[39;00m metrics\n\u001B[0;32m      4\u001B[0m \u001B[38;5;28;01mfrom\u001B[39;00m \u001B[38;5;21;01m.\u001B[39;00m \u001B[38;5;28;01mimport\u001B[39;00m process\n",
      "File \u001B[1;32mD:\\CSC\\twitter-suite\\twitter_suite\\filter\\__init__.py:8\u001B[0m\n\u001B[0;32m      6\u001B[0m \u001B[38;5;28;01mfrom\u001B[39;00m \u001B[38;5;21;01m.\u001B[39;00m\u001B[38;5;21;01mmove_by_phash_diff_v2\u001B[39;00m \u001B[38;5;28;01mimport\u001B[39;00m move_by_phash_diff \u001B[38;5;28;01mas\u001B[39;00m _move_by_phash_diff\n\u001B[0;32m      7\u001B[0m \u001B[38;5;28;01mfrom\u001B[39;00m \u001B[38;5;21;01m.\u001B[39;00m\u001B[38;5;21;01mmove_file_older_than\u001B[39;00m \u001B[38;5;28;01mimport\u001B[39;00m move_files_older_than_year \u001B[38;5;28;01mas\u001B[39;00m _move_files_older_than_year\n\u001B[1;32m----> 8\u001B[0m \u001B[38;5;28;01mfrom\u001B[39;00m \u001B[38;5;21;01m.\u001B[39;00m\u001B[38;5;21;01mmove_non_anime_files\u001B[39;00m \u001B[38;5;28;01mimport\u001B[39;00m move_non_anime_files \u001B[38;5;28;01mas\u001B[39;00m _move_non_anime_files\n\u001B[0;32m     10\u001B[0m \u001B[38;5;28;01mdef\u001B[39;00m \u001B[38;5;21mmove_small_files\u001B[39m(source_root: \u001B[38;5;28mstr\u001B[39m, size_threshold_kb\u001B[38;5;241m=\u001B[39m\u001B[38;5;241m70\u001B[39m, dimensions_threshold\u001B[38;5;241m=\u001B[39m\u001B[38;5;241m768\u001B[39m):\n\u001B[0;32m     11\u001B[0m \u001B[38;5;250m    \u001B[39m\u001B[38;5;124;03m\"\"\"\u001B[39;00m\n\u001B[0;32m     12\u001B[0m \u001B[38;5;124;03m    将小于size_threshold_kb的文件移动到source_root_small中\u001B[39;00m\n\u001B[0;32m     13\u001B[0m \u001B[38;5;124;03m    \"\"\"\u001B[39;00m\n",
      "\u001B[1;31mImportError\u001B[0m: cannot import name 'move_non_anime_files' from 'twitter_suite.filter.move_non_anime_files' (D:\\CSC\\twitter-suite\\twitter_suite\\filter\\move_non_anime_files.py)"
     ]
    }
   ],
   "source": [
    "from pathlib import Path\n",
    "import twitter_suite as ts"
   ]
  },
  {
   "cell_type": "code",
   "execution_count": null,
   "outputs": [],
   "source": [
    "# twitter: 下载到 BASE_DIR/twitter\n",
    "DOWNLOAD_DIR = r\"D:\\CSC\\twitter-suite\\gallery-dl\"\n",
    "TXT_PATH = r\"D:\\CSC\\twitter-suite\\bin\\bench_hachihito888_following.txt\"\n",
    "\n",
    "twitter_dir = Path(DOWNLOAD_DIR) / \"twitter\"\n",
    "PROCESS_DIR = Path(DOWNLOAD_DIR) / Path(TXT_PATH).stem"
   ],
   "metadata": {
    "collapsed": false
   }
  },
  {
   "cell_type": "code",
   "execution_count": 13,
   "outputs": [
    {
     "name": "stdout",
     "output_type": "stream",
     "text": [
      "copy folders listed in D:\\CSC\\twitter-suite\\bin\\twitter-artists-100nin2023.txt from D:\\CSC\\twitter-suite\\gallery-dl\\twitter to D:\\CSC\\twitter-suite\\gallery-dl\\twitter-artists-100nin2023: \n"
     ]
    },
    {
     "data": {
      "text/plain": "  0%|          | 0/100 [00:00<?, ?it/s]",
      "application/vnd.jupyter.widget-view+json": {
       "version_major": 2,
       "version_minor": 0,
       "model_id": "b9522ac58d244fb18a5096e389e68a16"
      }
     },
     "metadata": {},
     "output_type": "display_data"
    },
    {
     "name": "stdout",
     "output_type": "stream",
     "text": [
      "Folder D:\\CSC\\twitter-suite\\gallery-dl\\twitter\\yuka_nakajima not found.\n",
      "Folder D:\\CSC\\twitter-suite\\gallery-dl\\twitter\\necometa not found.\n",
      "Folder D:\\CSC\\twitter-suite\\gallery-dl\\twitter\\urafmo not found.\n",
      "Folder D:\\CSC\\twitter-suite\\gallery-dl\\twitter\\mignon not found.\n",
      "Folder D:\\CSC\\twitter-suite\\gallery-dl\\twitter\\asatsukimint not found.\n"
     ]
    }
   ],
   "source": [
    "# [复制]txt里指定的文件:\n",
    "ts.filter.move_folders_by_txt(TXT_PATH, twitter_dir, PROCESS_DIR, copy=True)"
   ],
   "metadata": {
    "collapsed": false
   }
  },
  {
   "cell_type": "code",
   "execution_count": 20,
   "outputs": [
    {
     "name": "stdout",
     "output_type": "stream",
     "text": [
      "Moving smaller files to D:\\CSC\\twitter-suite\\gallery-dl\\twitter-artists-100nin2023_sub85_min768\n"
     ]
    },
    {
     "data": {
      "text/plain": "Processing directories:   0%|          | 0/96 [00:00<?, ?it/s]",
      "application/vnd.jupyter.widget-view+json": {
       "version_major": 2,
       "version_minor": 0,
       "model_id": "a87a0b873bb84711a990824d6266c71e"
      }
     },
     "metadata": {},
     "output_type": "display_data"
    }
   ],
   "source": [
    "# 去除小文件, 分到两个文件夹检视\n",
    "ts.filter.move_small_files(PROCESS_DIR, size_threshold_kb=70, dimensions_threshold=640)\n",
    "ts.filter.move_small_files(PROCESS_DIR, size_threshold_kb=85, dimensions_threshold=768)"
   ],
   "metadata": {
    "collapsed": false
   }
  },
  {
   "cell_type": "code",
   "execution_count": null,
   "outputs": [],
   "source": [
    "# 去除老文件\n",
    "ts.filter.move_files_older_than_year(PROCESS_DIR, min_year=2019)"
   ],
   "metadata": {
    "collapsed": false
   }
  },
  {
   "cell_type": "code",
   "execution_count": 16,
   "outputs": [
    {
     "name": "stdout",
     "output_type": "stream",
     "text": [
      "2023-05-10 08:35:24.638594 [INFO] found 43447 file(s) for evaluation\n",
      "2023-05-10 08:35:24.795077 [INFO] check complete: data written to D:\\CSC\\twitter-suite\\gallery-dl\\twitter-artists-100nin2023\\metrics.csv\n"
     ]
    },
    {
     "name": "stderr",
     "output_type": "stream",
     "text": [
      "Calculating phash values: 100%|██████████| 43447/43447 [03:27<00:00, 209.07it/s]\n"
     ]
    }
   ],
   "source": [
    "# 产生metrics.csv, 插入aesthetics\n",
    "ts.metrics.get_aesthetics(PROCESS_DIR, dry_run=False)\n",
    "\n",
    "# 计算phash\n",
    "ts.metrics.insert_phash(PROCESS_DIR)"
   ],
   "metadata": {
    "collapsed": false
   }
  },
  {
   "cell_type": "code",
   "execution_count": 17,
   "outputs": [
    {
     "name": "stdout",
     "output_type": "stream",
     "text": [
      "Moved 6780 files to D:\\CSC\\twitter-suite\\gallery-dl\\twitter-artists-100nin2023_phash_min8\n"
     ]
    }
   ],
   "source": [
    "# 去重\n",
    "ts.filter.move_by_phash_diff(PROCESS_DIR, threshold=8)"
   ],
   "metadata": {
    "collapsed": false
   }
  },
  {
   "cell_type": "code",
   "execution_count": 23,
   "outputs": [
    {
     "ename": "KeyboardInterrupt",
     "evalue": "",
     "output_type": "error",
     "traceback": [
      "\u001B[1;31m---------------------------------------------------------------------------\u001B[0m",
      "\u001B[1;31mKeyboardInterrupt\u001B[0m                         Traceback (most recent call last)",
      "Cell \u001B[1;32mIn[23], line 3\u001B[0m\n\u001B[0;32m      1\u001B[0m \u001B[38;5;66;03m# 计算style & 移动非anime图片\u001B[39;00m\n\u001B[0;32m      2\u001B[0m \u001B[38;5;66;03m# ts.metrics.insert_cafe_metrics(PROCESS_DIR)\u001B[39;00m\n\u001B[1;32m----> 3\u001B[0m \u001B[43mts\u001B[49m\u001B[38;5;241;43m.\u001B[39;49m\u001B[43mfilter\u001B[49m\u001B[38;5;241;43m.\u001B[39;49m\u001B[43mmove_non_anime_files\u001B[49m\u001B[43m(\u001B[49m\u001B[43mPROCESS_DIR\u001B[49m\u001B[43m)\u001B[49m\n",
      "File \u001B[1;32mD:\\CSC\\twitter-suite\\twitter_suite\\filter\\__init__.py:63\u001B[0m, in \u001B[0;36mmove_non_anime_files\u001B[1;34m(source_root, dest_dir)\u001B[0m\n\u001B[0;32m     59\u001B[0m \u001B[38;5;28;01mdef\u001B[39;00m \u001B[38;5;21mmove_non_anime_files\u001B[39m(source_root: \u001B[38;5;28mstr\u001B[39m, dest_dir: \u001B[38;5;28mstr\u001B[39m \u001B[38;5;241m=\u001B[39m \u001B[38;5;28;01mNone\u001B[39;00m):\n\u001B[0;32m     60\u001B[0m \u001B[38;5;250m    \u001B[39m\u001B[38;5;124;03m\"\"\"\u001B[39;00m\n\u001B[0;32m     61\u001B[0m \u001B[38;5;124;03m    移动source_root里不是动漫的文件\u001B[39;00m\n\u001B[0;32m     62\u001B[0m \u001B[38;5;124;03m    \"\"\"\u001B[39;00m\n\u001B[1;32m---> 63\u001B[0m     \u001B[43m_move_non_anime_files\u001B[49m\u001B[43m(\u001B[49m\u001B[43msource_root\u001B[49m\u001B[43m,\u001B[49m\u001B[43m \u001B[49m\u001B[43mdest_dir\u001B[49m\u001B[43m)\u001B[49m\n",
      "File \u001B[1;32mD:\\CSC\\twitter-suite\\twitter_suite\\filter\\move_non_anime_files.py:25\u001B[0m, in \u001B[0;36mmove_non_anime_files\u001B[1;34m(root_dir, csv_file)\u001B[0m\n\u001B[0;32m     23\u001B[0m \u001B[38;5;66;03m# Find the source file path\u001B[39;00m\n\u001B[0;32m     24\u001B[0m source_file_path \u001B[38;5;241m=\u001B[39m \u001B[38;5;28;01mNone\u001B[39;00m\n\u001B[1;32m---> 25\u001B[0m \u001B[38;5;28;01mfor\u001B[39;00m foldername, _, filenames \u001B[38;5;129;01min\u001B[39;00m os\u001B[38;5;241m.\u001B[39mwalk(root_dir):\n\u001B[0;32m     26\u001B[0m     \u001B[38;5;28;01mif\u001B[39;00m filename \u001B[38;5;129;01min\u001B[39;00m filenames:\n\u001B[0;32m     27\u001B[0m         source_file_path \u001B[38;5;241m=\u001B[39m os\u001B[38;5;241m.\u001B[39mpath\u001B[38;5;241m.\u001B[39mjoin(foldername, filename)\n",
      "File \u001B[1;32mD:\\APP\\0Drivers\\Python310\\lib\\os.py:418\u001B[0m, in \u001B[0;36m_walk\u001B[1;34m(top, topdown, onerror, followlinks)\u001B[0m\n\u001B[0;32m    413\u001B[0m         \u001B[38;5;66;03m# Issue #23605: os.path.islink() is used instead of caching\u001B[39;00m\n\u001B[0;32m    414\u001B[0m         \u001B[38;5;66;03m# entry.is_symlink() result during the loop on os.scandir() because\u001B[39;00m\n\u001B[0;32m    415\u001B[0m         \u001B[38;5;66;03m# the caller can replace the directory entry during the \"yield\"\u001B[39;00m\n\u001B[0;32m    416\u001B[0m         \u001B[38;5;66;03m# above.\u001B[39;00m\n\u001B[0;32m    417\u001B[0m         \u001B[38;5;28;01mif\u001B[39;00m followlinks \u001B[38;5;129;01mor\u001B[39;00m \u001B[38;5;129;01mnot\u001B[39;00m islink(new_path):\n\u001B[1;32m--> 418\u001B[0m             \u001B[38;5;28;01myield from\u001B[39;00m _walk(new_path, topdown, onerror, followlinks)\n\u001B[0;32m    419\u001B[0m \u001B[38;5;28;01melse\u001B[39;00m:\n\u001B[0;32m    420\u001B[0m     \u001B[38;5;66;03m# Recurse into sub-directories\u001B[39;00m\n\u001B[0;32m    421\u001B[0m     \u001B[38;5;28;01mfor\u001B[39;00m new_path \u001B[38;5;129;01min\u001B[39;00m walk_dirs:\n",
      "File \u001B[1;32mD:\\APP\\0Drivers\\Python310\\lib\\os.py:367\u001B[0m, in \u001B[0;36m_walk\u001B[1;34m(top, topdown, onerror, followlinks)\u001B[0m\n\u001B[0;32m    365\u001B[0m \u001B[38;5;28;01mtry\u001B[39;00m:\n\u001B[0;32m    366\u001B[0m     \u001B[38;5;28;01mtry\u001B[39;00m:\n\u001B[1;32m--> 367\u001B[0m         entry \u001B[38;5;241m=\u001B[39m \u001B[38;5;28;43mnext\u001B[39;49m\u001B[43m(\u001B[49m\u001B[43mscandir_it\u001B[49m\u001B[43m)\u001B[49m\n\u001B[0;32m    368\u001B[0m     \u001B[38;5;28;01mexcept\u001B[39;00m \u001B[38;5;167;01mStopIteration\u001B[39;00m:\n\u001B[0;32m    369\u001B[0m         \u001B[38;5;28;01mbreak\u001B[39;00m\n",
      "\u001B[1;31mKeyboardInterrupt\u001B[0m: "
     ]
    }
   ],
   "source": [
    "# 计算style & 移动非anime图片\n",
    "ts.metrics.insert_cafe_metrics(PROCESS_DIR)\n",
    "ts.filter.move_non_anime_files(PROCESS_DIR)"
   ],
   "metadata": {
    "collapsed": false
   }
  },
  {
   "cell_type": "code",
   "execution_count": null,
   "outputs": [],
   "source": [
    "# 移动json文件\n",
    "# todo"
   ],
   "metadata": {
    "collapsed": false
   }
  },
  {
   "cell_type": "markdown",
   "source": [],
   "metadata": {
    "collapsed": false
   }
  },
  {
   "cell_type": "code",
   "execution_count": 24,
   "outputs": [
    {
     "ename": "AttributeError",
     "evalue": "module 'twitter_suite' has no attribute 'process'",
     "output_type": "error",
     "traceback": [
      "\u001B[1;31m---------------------------------------------------------------------------\u001B[0m",
      "\u001B[1;31mAttributeError\u001B[0m                            Traceback (most recent call last)",
      "Cell \u001B[1;32mIn[24], line 2\u001B[0m\n\u001B[0;32m      1\u001B[0m \u001B[38;5;66;03m# 压缩图片到webp768\u001B[39;00m\n\u001B[1;32m----> 2\u001B[0m \u001B[43mts\u001B[49m\u001B[38;5;241;43m.\u001B[39;49m\u001B[43mprocess\u001B[49m\u001B[38;5;241m.\u001B[39mresize_images(PROCESS_DIR, min_side\u001B[38;5;241m=\u001B[39m\u001B[38;5;241m768\u001B[39m, \u001B[38;5;28mformat\u001B[39m\u001B[38;5;241m=\u001B[39m\u001B[38;5;124m\"\u001B[39m\u001B[38;5;124mwebp\u001B[39m\u001B[38;5;124m\"\u001B[39m)\n\u001B[0;32m      4\u001B[0m \u001B[38;5;66;03m# todo\u001B[39;00m\n\u001B[0;32m      5\u001B[0m \u001B[38;5;66;03m# ts.process.validate_images(PROCESS_DIR, min_side=768, format=\"webp\")\u001B[39;00m\n",
      "\u001B[1;31mAttributeError\u001B[0m: module 'twitter_suite' has no attribute 'process'"
     ]
    }
   ],
   "source": [
    "# 压缩图片到webp768\n",
    "ts.process.resize_images(PROCESS_DIR, min_side=768, format=\"webp\")\n",
    "\n",
    "# todo\n",
    "# ts.process.validate_images(PROCESS_DIR, min_side=768, format=\"webp\")"
   ],
   "metadata": {
    "collapsed": false
   }
  },
  {
   "cell_type": "code",
   "execution_count": null,
   "outputs": [],
   "source": [],
   "metadata": {
    "collapsed": false
   }
  }
 ],
 "metadata": {
  "kernelspec": {
   "display_name": "Python 3",
   "language": "python",
   "name": "python3"
  },
  "language_info": {
   "codemirror_mode": {
    "name": "ipython",
    "version": 2
   },
   "file_extension": ".py",
   "mimetype": "text/x-python",
   "name": "python",
   "nbconvert_exporter": "python",
   "pygments_lexer": "ipython2",
   "version": "2.7.6"
  }
 },
 "nbformat": 4,
 "nbformat_minor": 0
}
